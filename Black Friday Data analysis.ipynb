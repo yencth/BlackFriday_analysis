{
 "cells": [
  {
   "cell_type": "code",
   "execution_count": 1,
   "id": "78f6478a",
   "metadata": {},
   "outputs": [
    {
     "name": "stdout",
     "output_type": "stream",
     "text": [
      "Note: you may need to restart the kernel to use updated packages.\n"
     ]
    },
    {
     "name": "stderr",
     "output_type": "stream",
     "text": [
      "ERROR: Could not open requirements file: [Errno 2] No such file or directory: 'requirements.txt'\n"
     ]
    }
   ],
   "source": [
    "pip install -r requirements.txt"
   ]
  },
  {
   "cell_type": "code",
   "execution_count": 2,
   "id": "452c1527",
   "metadata": {},
   "outputs": [
    {
     "name": "stdout",
     "output_type": "stream",
     "text": [
      "Requirement already satisfied: pycodestyle in c:\\programdata\\anaconda3\\lib\\site-packages (2.7.0)\n",
      "Requirement already satisfied: pycodestyle_magic in c:\\programdata\\anaconda3\\lib\\site-packages (0.5)\n",
      "Requirement already satisfied: flake8 in c:\\programdata\\anaconda3\\lib\\site-packages (3.9.2)\n",
      "Requirement already satisfied: pycodestyle<2.8.0,>=2.7.0 in c:\\programdata\\anaconda3\\lib\\site-packages (from flake8) (2.7.0)\n",
      "Requirement already satisfied: mccabe<0.7.0,>=0.6.0 in c:\\programdata\\anaconda3\\lib\\site-packages (from flake8) (0.6.1)\n",
      "Requirement already satisfied: pyflakes<2.4.0,>=2.3.0 in c:\\programdata\\anaconda3\\lib\\site-packages (from flake8) (2.3.1)\n"
     ]
    }
   ],
   "source": [
    "!pip install pycodestyle pycodestyle_magic\n",
    "!pip install flake8\n",
    "%load_ext pycodestyle_magic"
   ]
  },
  {
   "cell_type": "code",
   "execution_count": 3,
   "id": "651b15cb",
   "metadata": {},
   "outputs": [
    {
     "name": "stderr",
     "output_type": "stream",
     "text": [
      "UsageError: %%pycodestyle is a cell magic, but the cell body is empty.\n"
     ]
    }
   ],
   "source": [
    "%%pycodestyle"
   ]
  },
  {
   "cell_type": "markdown",
   "id": "319c6cc8",
   "metadata": {},
   "source": [
    "# Section 1: Business Understanding"
   ]
  },
  {
   "cell_type": "markdown",
   "id": "9ead1fbb",
   "metadata": {},
   "source": [
    "* There are many strategy for your next campain. Choose the right target customer or product will save money for your company in marketing campaign and also get the best profit. So we will explore the data to answer the questions below."
   ]
  },
  {
   "cell_type": "markdown",
   "id": "261dbd1d",
   "metadata": {},
   "source": [
    "### Question 1: Who should be target customer in the next campain?\n",
    "* We will analysis customer demographics (age, gender, marital status, city_type, stay_in_current_city)"
   ]
  },
  {
   "cell_type": "markdown",
   "id": "ff2e2350",
   "metadata": {},
   "source": [
    "### Question 2: Which product should be care in the next campain?\n",
    "* We will analysis product details (product_id and product category)"
   ]
  },
  {
   "cell_type": "markdown",
   "id": "82e8192b",
   "metadata": {},
   "source": [
    "### Question 3: Which products are best selling ?\n",
    "* We will analysis which product ID is best seller, and which is best seller with customer group age"
   ]
  },
  {
   "cell_type": "code",
   "execution_count": 5,
   "id": "1c854e0b",
   "metadata": {},
   "outputs": [],
   "source": [
    "#import libraries\n",
    "import numpy as np\n",
    "import pandas as pd\n",
    "import matplotlib.pyplot as plt\n",
    "import seaborn as sns\n",
    "\n",
    "%matplotlib inline"
   ]
  },
  {
   "cell_type": "markdown",
   "id": "7f27968a",
   "metadata": {},
   "source": [
    "# Section 2: Data Understanding"
   ]
  },
  {
   "cell_type": "markdown",
   "id": "c4329171",
   "metadata": {},
   "source": [
    "### Gather"
   ]
  },
  {
   "cell_type": "code",
   "execution_count": 6,
   "id": "5495d25a",
   "metadata": {
    "scrolled": true
   },
   "outputs": [
    {
     "name": "stdout",
     "output_type": "stream",
     "text": [
      "data shape :  (550068, 12)\n"
     ]
    }
   ],
   "source": [
    "df = pd.read_csv('data/train/train.csv')\n",
    "print(\"data shape : \",df.shape)"
   ]
  },
  {
   "cell_type": "markdown",
   "id": "fefd75e3",
   "metadata": {},
   "source": [
    "### Clean data"
   ]
  },
  {
   "cell_type": "code",
   "execution_count": 7,
   "id": "fe5278bd",
   "metadata": {},
   "outputs": [
    {
     "data": {
      "text/plain": [
       "0"
      ]
     },
     "execution_count": 7,
     "metadata": {},
     "output_type": "execute_result"
    }
   ],
   "source": [
    "# check duplication\n",
    "sum(df.duplicated())"
   ]
  },
  {
   "cell_type": "code",
   "execution_count": 8,
   "id": "faeae60e",
   "metadata": {},
   "outputs": [
    {
     "data": {
      "text/html": [
       "<div>\n",
       "<style scoped>\n",
       "    .dataframe tbody tr th:only-of-type {\n",
       "        vertical-align: middle;\n",
       "    }\n",
       "\n",
       "    .dataframe tbody tr th {\n",
       "        vertical-align: top;\n",
       "    }\n",
       "\n",
       "    .dataframe thead th {\n",
       "        text-align: right;\n",
       "    }\n",
       "</style>\n",
       "<table border=\"1\" class=\"dataframe\">\n",
       "  <thead>\n",
       "    <tr style=\"text-align: right;\">\n",
       "      <th></th>\n",
       "      <th>User_ID</th>\n",
       "      <th>Product_ID</th>\n",
       "      <th>Gender</th>\n",
       "      <th>Age</th>\n",
       "      <th>Occupation</th>\n",
       "      <th>City_Category</th>\n",
       "      <th>Stay_In_Current_City_Years</th>\n",
       "      <th>Marital_Status</th>\n",
       "      <th>Product_Category_1</th>\n",
       "      <th>Product_Category_2</th>\n",
       "      <th>Product_Category_3</th>\n",
       "      <th>Purchase</th>\n",
       "    </tr>\n",
       "  </thead>\n",
       "  <tbody>\n",
       "    <tr>\n",
       "      <th>0</th>\n",
       "      <td>1000001</td>\n",
       "      <td>P00069042</td>\n",
       "      <td>F</td>\n",
       "      <td>0-17</td>\n",
       "      <td>10</td>\n",
       "      <td>A</td>\n",
       "      <td>2</td>\n",
       "      <td>0</td>\n",
       "      <td>3</td>\n",
       "      <td>NaN</td>\n",
       "      <td>NaN</td>\n",
       "      <td>8370</td>\n",
       "    </tr>\n",
       "    <tr>\n",
       "      <th>1</th>\n",
       "      <td>1000001</td>\n",
       "      <td>P00248942</td>\n",
       "      <td>F</td>\n",
       "      <td>0-17</td>\n",
       "      <td>10</td>\n",
       "      <td>A</td>\n",
       "      <td>2</td>\n",
       "      <td>0</td>\n",
       "      <td>1</td>\n",
       "      <td>6.0</td>\n",
       "      <td>14.0</td>\n",
       "      <td>15200</td>\n",
       "    </tr>\n",
       "    <tr>\n",
       "      <th>2</th>\n",
       "      <td>1000001</td>\n",
       "      <td>P00087842</td>\n",
       "      <td>F</td>\n",
       "      <td>0-17</td>\n",
       "      <td>10</td>\n",
       "      <td>A</td>\n",
       "      <td>2</td>\n",
       "      <td>0</td>\n",
       "      <td>12</td>\n",
       "      <td>NaN</td>\n",
       "      <td>NaN</td>\n",
       "      <td>1422</td>\n",
       "    </tr>\n",
       "    <tr>\n",
       "      <th>3</th>\n",
       "      <td>1000001</td>\n",
       "      <td>P00085442</td>\n",
       "      <td>F</td>\n",
       "      <td>0-17</td>\n",
       "      <td>10</td>\n",
       "      <td>A</td>\n",
       "      <td>2</td>\n",
       "      <td>0</td>\n",
       "      <td>12</td>\n",
       "      <td>14.0</td>\n",
       "      <td>NaN</td>\n",
       "      <td>1057</td>\n",
       "    </tr>\n",
       "    <tr>\n",
       "      <th>4</th>\n",
       "      <td>1000002</td>\n",
       "      <td>P00285442</td>\n",
       "      <td>M</td>\n",
       "      <td>55+</td>\n",
       "      <td>16</td>\n",
       "      <td>C</td>\n",
       "      <td>4+</td>\n",
       "      <td>0</td>\n",
       "      <td>8</td>\n",
       "      <td>NaN</td>\n",
       "      <td>NaN</td>\n",
       "      <td>7969</td>\n",
       "    </tr>\n",
       "  </tbody>\n",
       "</table>\n",
       "</div>"
      ],
      "text/plain": [
       "   User_ID Product_ID Gender   Age  Occupation City_Category  \\\n",
       "0  1000001  P00069042      F  0-17          10             A   \n",
       "1  1000001  P00248942      F  0-17          10             A   \n",
       "2  1000001  P00087842      F  0-17          10             A   \n",
       "3  1000001  P00085442      F  0-17          10             A   \n",
       "4  1000002  P00285442      M   55+          16             C   \n",
       "\n",
       "  Stay_In_Current_City_Years  Marital_Status  Product_Category_1  \\\n",
       "0                          2               0                   3   \n",
       "1                          2               0                   1   \n",
       "2                          2               0                  12   \n",
       "3                          2               0                  12   \n",
       "4                         4+               0                   8   \n",
       "\n",
       "   Product_Category_2  Product_Category_3  Purchase  \n",
       "0                 NaN                 NaN      8370  \n",
       "1                 6.0                14.0     15200  \n",
       "2                 NaN                 NaN      1422  \n",
       "3                14.0                 NaN      1057  \n",
       "4                 NaN                 NaN      7969  "
      ]
     },
     "execution_count": 8,
     "metadata": {},
     "output_type": "execute_result"
    }
   ],
   "source": [
    "df.head()"
   ]
  },
  {
   "cell_type": "code",
   "execution_count": 9,
   "id": "3d805222",
   "metadata": {},
   "outputs": [
    {
     "name": "stdout",
     "output_type": "stream",
     "text": [
      "<class 'pandas.core.frame.DataFrame'>\n",
      "RangeIndex: 550068 entries, 0 to 550067\n",
      "Data columns (total 12 columns):\n",
      " #   Column                      Non-Null Count   Dtype  \n",
      "---  ------                      --------------   -----  \n",
      " 0   User_ID                     550068 non-null  int64  \n",
      " 1   Product_ID                  550068 non-null  object \n",
      " 2   Gender                      550068 non-null  object \n",
      " 3   Age                         550068 non-null  object \n",
      " 4   Occupation                  550068 non-null  int64  \n",
      " 5   City_Category               550068 non-null  object \n",
      " 6   Stay_In_Current_City_Years  550068 non-null  object \n",
      " 7   Marital_Status              550068 non-null  int64  \n",
      " 8   Product_Category_1          550068 non-null  int64  \n",
      " 9   Product_Category_2          376430 non-null  float64\n",
      " 10  Product_Category_3          166821 non-null  float64\n",
      " 11  Purchase                    550068 non-null  int64  \n",
      "dtypes: float64(2), int64(5), object(5)\n",
      "memory usage: 50.4+ MB\n"
     ]
    }
   ],
   "source": [
    "df.info()"
   ]
  },
  {
   "cell_type": "code",
   "execution_count": 10,
   "id": "7360ec66",
   "metadata": {},
   "outputs": [
    {
     "data": {
      "text/plain": [
       "User_ID                        5891\n",
       "Product_ID                     3631\n",
       "Gender                            2\n",
       "Age                               7\n",
       "Occupation                       21\n",
       "City_Category                     3\n",
       "Stay_In_Current_City_Years        5\n",
       "Marital_Status                    2\n",
       "Product_Category_1               20\n",
       "Product_Category_2               17\n",
       "Product_Category_3               15\n",
       "Purchase                      18105\n",
       "dtype: int64"
      ]
     },
     "execution_count": 10,
     "metadata": {},
     "output_type": "execute_result"
    }
   ],
   "source": [
    "df.nunique()"
   ]
  },
  {
   "cell_type": "code",
   "execution_count": 11,
   "id": "8403a68e",
   "metadata": {},
   "outputs": [
    {
     "name": "stdout",
     "output_type": "stream",
     "text": [
      "User_ID: [1000001 1000002 1000003 ... 1004113 1005391 1001529]\n",
      "Product_ID: ['P00069042' 'P00248942' 'P00087842' ... 'P00370293' 'P00371644'\n",
      " 'P00370853']\n",
      "Gender: ['F' 'M']\n",
      "Age: ['0-17' '55+' '26-35' '46-50' '51-55' '36-45' '18-25']\n",
      "Occupation: [10 16 15  7 20  9  1 12 17  0  3  4 11  8 19  2 18  5 14 13  6]\n",
      "City_Category: ['A' 'C' 'B']\n",
      "Stay_In_Current_City_Years: ['2' '4+' '3' '1' '0']\n",
      "Marital_Status: [0 1]\n",
      "Product_Category_1: [ 3  1 12  8  5  4  2  6 14 11 13 15  7 16 18 10 17  9 20 19]\n",
      "Product_Category_2: [nan  6. 14.  2.  8. 15. 16. 11.  5.  3.  4. 12.  9. 10. 17. 13.  7. 18.]\n",
      "Product_Category_3: [nan 14. 17.  5.  4. 16. 15.  8.  9. 13.  6. 12.  3. 18. 11. 10.]\n",
      "Purchase: [ 8370 15200  1422 ...   135   123   613]\n"
     ]
    }
   ],
   "source": [
    "for col in df.columns:\n",
    "    print(col + ':', df[col].unique())"
   ]
  },
  {
   "cell_type": "code",
   "execution_count": 12,
   "id": "c098189b",
   "metadata": {},
   "outputs": [
    {
     "data": {
      "text/html": [
       "<div>\n",
       "<style scoped>\n",
       "    .dataframe tbody tr th:only-of-type {\n",
       "        vertical-align: middle;\n",
       "    }\n",
       "\n",
       "    .dataframe tbody tr th {\n",
       "        vertical-align: top;\n",
       "    }\n",
       "\n",
       "    .dataframe thead th {\n",
       "        text-align: right;\n",
       "    }\n",
       "</style>\n",
       "<table border=\"1\" class=\"dataframe\">\n",
       "  <thead>\n",
       "    <tr style=\"text-align: right;\">\n",
       "      <th></th>\n",
       "      <th>User_ID</th>\n",
       "      <th>Occupation</th>\n",
       "      <th>Marital_Status</th>\n",
       "      <th>Product_Category_1</th>\n",
       "      <th>Product_Category_2</th>\n",
       "      <th>Product_Category_3</th>\n",
       "      <th>Purchase</th>\n",
       "    </tr>\n",
       "  </thead>\n",
       "  <tbody>\n",
       "    <tr>\n",
       "      <th>count</th>\n",
       "      <td>5.500680e+05</td>\n",
       "      <td>550068.000000</td>\n",
       "      <td>550068.000000</td>\n",
       "      <td>550068.000000</td>\n",
       "      <td>376430.000000</td>\n",
       "      <td>166821.000000</td>\n",
       "      <td>550068.000000</td>\n",
       "    </tr>\n",
       "    <tr>\n",
       "      <th>mean</th>\n",
       "      <td>1.003029e+06</td>\n",
       "      <td>8.076707</td>\n",
       "      <td>0.409653</td>\n",
       "      <td>5.404270</td>\n",
       "      <td>9.842329</td>\n",
       "      <td>12.668243</td>\n",
       "      <td>9263.968713</td>\n",
       "    </tr>\n",
       "    <tr>\n",
       "      <th>std</th>\n",
       "      <td>1.727592e+03</td>\n",
       "      <td>6.522660</td>\n",
       "      <td>0.491770</td>\n",
       "      <td>3.936211</td>\n",
       "      <td>5.086590</td>\n",
       "      <td>4.125338</td>\n",
       "      <td>5023.065394</td>\n",
       "    </tr>\n",
       "    <tr>\n",
       "      <th>min</th>\n",
       "      <td>1.000001e+06</td>\n",
       "      <td>0.000000</td>\n",
       "      <td>0.000000</td>\n",
       "      <td>1.000000</td>\n",
       "      <td>2.000000</td>\n",
       "      <td>3.000000</td>\n",
       "      <td>12.000000</td>\n",
       "    </tr>\n",
       "    <tr>\n",
       "      <th>25%</th>\n",
       "      <td>1.001516e+06</td>\n",
       "      <td>2.000000</td>\n",
       "      <td>0.000000</td>\n",
       "      <td>1.000000</td>\n",
       "      <td>5.000000</td>\n",
       "      <td>9.000000</td>\n",
       "      <td>5823.000000</td>\n",
       "    </tr>\n",
       "    <tr>\n",
       "      <th>50%</th>\n",
       "      <td>1.003077e+06</td>\n",
       "      <td>7.000000</td>\n",
       "      <td>0.000000</td>\n",
       "      <td>5.000000</td>\n",
       "      <td>9.000000</td>\n",
       "      <td>14.000000</td>\n",
       "      <td>8047.000000</td>\n",
       "    </tr>\n",
       "    <tr>\n",
       "      <th>75%</th>\n",
       "      <td>1.004478e+06</td>\n",
       "      <td>14.000000</td>\n",
       "      <td>1.000000</td>\n",
       "      <td>8.000000</td>\n",
       "      <td>15.000000</td>\n",
       "      <td>16.000000</td>\n",
       "      <td>12054.000000</td>\n",
       "    </tr>\n",
       "    <tr>\n",
       "      <th>max</th>\n",
       "      <td>1.006040e+06</td>\n",
       "      <td>20.000000</td>\n",
       "      <td>1.000000</td>\n",
       "      <td>20.000000</td>\n",
       "      <td>18.000000</td>\n",
       "      <td>18.000000</td>\n",
       "      <td>23961.000000</td>\n",
       "    </tr>\n",
       "  </tbody>\n",
       "</table>\n",
       "</div>"
      ],
      "text/plain": [
       "            User_ID     Occupation  Marital_Status  Product_Category_1  \\\n",
       "count  5.500680e+05  550068.000000   550068.000000       550068.000000   \n",
       "mean   1.003029e+06       8.076707        0.409653            5.404270   \n",
       "std    1.727592e+03       6.522660        0.491770            3.936211   \n",
       "min    1.000001e+06       0.000000        0.000000            1.000000   \n",
       "25%    1.001516e+06       2.000000        0.000000            1.000000   \n",
       "50%    1.003077e+06       7.000000        0.000000            5.000000   \n",
       "75%    1.004478e+06      14.000000        1.000000            8.000000   \n",
       "max    1.006040e+06      20.000000        1.000000           20.000000   \n",
       "\n",
       "       Product_Category_2  Product_Category_3       Purchase  \n",
       "count       376430.000000       166821.000000  550068.000000  \n",
       "mean             9.842329           12.668243    9263.968713  \n",
       "std              5.086590            4.125338    5023.065394  \n",
       "min              2.000000            3.000000      12.000000  \n",
       "25%              5.000000            9.000000    5823.000000  \n",
       "50%              9.000000           14.000000    8047.000000  \n",
       "75%             15.000000           16.000000   12054.000000  \n",
       "max             18.000000           18.000000   23961.000000  "
      ]
     },
     "execution_count": 12,
     "metadata": {},
     "output_type": "execute_result"
    }
   ],
   "source": [
    "df.describe()"
   ]
  },
  {
   "cell_type": "code",
   "execution_count": 13,
   "id": "90bb89a0",
   "metadata": {},
   "outputs": [
    {
     "data": {
      "text/html": [
       "<div>\n",
       "<style scoped>\n",
       "    .dataframe tbody tr th:only-of-type {\n",
       "        vertical-align: middle;\n",
       "    }\n",
       "\n",
       "    .dataframe tbody tr th {\n",
       "        vertical-align: top;\n",
       "    }\n",
       "\n",
       "    .dataframe thead th {\n",
       "        text-align: right;\n",
       "    }\n",
       "</style>\n",
       "<table border=\"1\" class=\"dataframe\">\n",
       "  <thead>\n",
       "    <tr style=\"text-align: right;\">\n",
       "      <th></th>\n",
       "      <th>Total</th>\n",
       "      <th>Percent</th>\n",
       "    </tr>\n",
       "  </thead>\n",
       "  <tbody>\n",
       "    <tr>\n",
       "      <th>Product_Category_3</th>\n",
       "      <td>383247</td>\n",
       "      <td>69.672659</td>\n",
       "    </tr>\n",
       "    <tr>\n",
       "      <th>Product_Category_2</th>\n",
       "      <td>173638</td>\n",
       "      <td>31.566643</td>\n",
       "    </tr>\n",
       "    <tr>\n",
       "      <th>User_ID</th>\n",
       "      <td>0</td>\n",
       "      <td>0.000000</td>\n",
       "    </tr>\n",
       "    <tr>\n",
       "      <th>Product_ID</th>\n",
       "      <td>0</td>\n",
       "      <td>0.000000</td>\n",
       "    </tr>\n",
       "    <tr>\n",
       "      <th>Gender</th>\n",
       "      <td>0</td>\n",
       "      <td>0.000000</td>\n",
       "    </tr>\n",
       "    <tr>\n",
       "      <th>Age</th>\n",
       "      <td>0</td>\n",
       "      <td>0.000000</td>\n",
       "    </tr>\n",
       "    <tr>\n",
       "      <th>Occupation</th>\n",
       "      <td>0</td>\n",
       "      <td>0.000000</td>\n",
       "    </tr>\n",
       "    <tr>\n",
       "      <th>City_Category</th>\n",
       "      <td>0</td>\n",
       "      <td>0.000000</td>\n",
       "    </tr>\n",
       "    <tr>\n",
       "      <th>Stay_In_Current_City_Years</th>\n",
       "      <td>0</td>\n",
       "      <td>0.000000</td>\n",
       "    </tr>\n",
       "    <tr>\n",
       "      <th>Marital_Status</th>\n",
       "      <td>0</td>\n",
       "      <td>0.000000</td>\n",
       "    </tr>\n",
       "    <tr>\n",
       "      <th>Product_Category_1</th>\n",
       "      <td>0</td>\n",
       "      <td>0.000000</td>\n",
       "    </tr>\n",
       "    <tr>\n",
       "      <th>Purchase</th>\n",
       "      <td>0</td>\n",
       "      <td>0.000000</td>\n",
       "    </tr>\n",
       "  </tbody>\n",
       "</table>\n",
       "</div>"
      ],
      "text/plain": [
       "                             Total    Percent\n",
       "Product_Category_3          383247  69.672659\n",
       "Product_Category_2          173638  31.566643\n",
       "User_ID                          0   0.000000\n",
       "Product_ID                       0   0.000000\n",
       "Gender                           0   0.000000\n",
       "Age                              0   0.000000\n",
       "Occupation                       0   0.000000\n",
       "City_Category                    0   0.000000\n",
       "Stay_In_Current_City_Years       0   0.000000\n",
       "Marital_Status                   0   0.000000\n",
       "Product_Category_1               0   0.000000\n",
       "Purchase                         0   0.000000"
      ]
     },
     "execution_count": 13,
     "metadata": {},
     "output_type": "execute_result"
    }
   ],
   "source": [
    "total = df.isnull().sum().sort_values(ascending=False)\n",
    "\n",
    "#get percent of missing data relevant to all data\n",
    "percent = (df.isnull().sum()/df.isnull().count()).sort_values(ascending=False)*100\n",
    "\n",
    "missing_data = pd.concat([total, percent], axis=1, keys=['Total', 'Percent'])\n",
    "missing_data"
   ]
  },
  {
   "cell_type": "markdown",
   "id": "e697c2e3",
   "metadata": {},
   "source": [
    "* Product_Category_3 has missing value more than 60% so we delete this column"
   ]
  },
  {
   "cell_type": "code",
   "execution_count": 14,
   "id": "a82a240b",
   "metadata": {},
   "outputs": [],
   "source": [
    "# delete column Product_Category_3\n",
    "df=df.drop('Product_Category_3',axis=1)"
   ]
  },
  {
   "cell_type": "markdown",
   "id": "a9f554b8",
   "metadata": {},
   "source": [
    "* Product_Category_2 has value )is integer, we shouldn't fill missing value by mean (it will be decimal). We will fill it by meadian or mode. This time, we fill it by median."
   ]
  },
  {
   "cell_type": "code",
   "execution_count": 15,
   "id": "2c67df46",
   "metadata": {},
   "outputs": [],
   "source": [
    "#fill median for Product_Category_2\n",
    "df.Product_Category_2.fillna(df.Product_Category_2.median(),inplace=True)"
   ]
  },
  {
   "cell_type": "code",
   "execution_count": 16,
   "id": "96f30f0b",
   "metadata": {},
   "outputs": [
    {
     "data": {
      "text/plain": [
       "0"
      ]
     },
     "execution_count": 16,
     "metadata": {},
     "output_type": "execute_result"
    }
   ],
   "source": [
    "#check missing value\n",
    "df.isnull().sum().max()"
   ]
  },
  {
   "cell_type": "markdown",
   "id": "105f25c9",
   "metadata": {},
   "source": [
    "* Now there is no missing value"
   ]
  },
  {
   "cell_type": "markdown",
   "id": "717ad36d",
   "metadata": {},
   "source": [
    "### Explore data analysis"
   ]
  },
  {
   "cell_type": "code",
   "execution_count": 18,
   "id": "7cd0ed3b",
   "metadata": {},
   "outputs": [],
   "source": [
    "# Function for visualize data\n",
    "# countplot\n",
    "def countplot(col):\n",
    "    ''' This function provide the counts for the each series in a column and plot it in bar plot.\n",
    "    \n",
    "    Input: column name\n",
    "    Output: plt bar plot of value counts\n",
    "    '''\n",
    "    plt.figure(figsize=(18,5))\n",
    "    sns.countplot(df[col], order = df[col].value_counts().index)\n",
    "    plt.title('Distribution of ' + col)\n",
    "    plt.show()\n",
    "\n",
    "# barplot of mean purchase\n",
    "def barplot(col):\n",
    "    '''This function provide the mean of purchase per series in a column and plot it in bar plot.\n",
    "    \n",
    "    Input: column name\n",
    "    Output: plt bar plot of mean purchase\n",
    "    '''\n",
    "    plt.figure(figsize=(18,5))\n",
    "    df.groupby(col).mean()[\"Purchase\"].plot(kind='bar')\n",
    "    plt.title(col + \" and Purchase\")\n",
    "    plt.show()\n",
    "\n",
    "def snsbox(col):\n",
    "    '''This function provide the mean of purchase per series in a column and plot it in bar plot.\n",
    "    \n",
    "    Input: column name\n",
    "    Output: box plot of purchase in each series in a column\n",
    "    '''\n",
    "    df[col] = df[col].astype(int)\n",
    "    order = df.groupby(by = [col] )['Purchase'].mean().sort_values().index[::-1]\n",
    "    sns.set(rc={'figure.figsize':(18,5)})\n",
    "    sns.boxplot(df[col],df['Purchase'],order=order)"
   ]
  },
  {
   "cell_type": "code",
   "execution_count": 38,
   "id": "70b6090e",
   "metadata": {},
   "outputs": [
    {
     "name": "stderr",
     "output_type": "stream",
     "text": [
      "C:\\ProgramData\\Anaconda3\\lib\\site-packages\\seaborn\\distributions.py:2619: FutureWarning: `distplot` is a deprecated function and will be removed in a future version. Please adapt your code to use either `displot` (a figure-level function with similar flexibility) or `histplot` (an axes-level function for histograms).\n",
      "  warnings.warn(msg, FutureWarning)\n"
     ]
    },
    {
     "data": {
      "image/png": "[encoded data removed]",
      "text/plain": [
       "<Figure size 864x360 with 1 Axes>"
      ]
     },
     "metadata": {
      "needs_background": "light"
     },
     "output_type": "display_data"
    }
   ],
   "source": [
    "plt.figure(figsize=(12,5))\n",
    "sns.distplot(df[\"Purchase\"])\n",
    "plt.title(\"Purchase Distribution\")\n",
    "plt.show()"
   ]
  },
  {
   "cell_type": "markdown",
   "id": "a5bd9c54",
   "metadata": {},
   "source": [
    "0 frequency near 15000 and mid of 15000-20000"
   ]
  },
  {
   "cell_type": "code",
   "execution_count": 20,
   "id": "d0ff8e7f",
   "metadata": {},
   "outputs": [
    {
     "name": "stderr",
     "output_type": "stream",
     "text": [
      "C:\\ProgramData\\Anaconda3\\lib\\site-packages\\seaborn\\_decorators.py:36: FutureWarning: Pass the following variable as a keyword arg: x. From version 0.12, the only valid positional argument will be `data`, and passing other arguments without an explicit keyword will result in an error or misinterpretation.\n",
      "  warnings.warn(\n"
     ]
    },
    {
     "data": {
      "image/png": "[encoded data removed]",
      "text/plain": [
       "<Figure size 864x360 with 1 Axes>"
      ]
     },
     "metadata": {
      "needs_background": "light"
     },
     "output_type": "display_data"
    }
   ],
   "source": [
    "plt.figure(figsize=(12,5))\n",
    "sns.boxplot(df[\"Purchase\"])\n",
    "plt.title(\"Boxplot of Purchase\")\n",
    "plt.show()"
   ]
  },
  {
   "cell_type": "markdown",
   "id": "1f4f59d0",
   "metadata": {},
   "source": [
    "### Male or female who bought more?"
   ]
  },
  {
   "cell_type": "code",
   "execution_count": 26,
   "id": "bfd4180a",
   "metadata": {},
   "outputs": [
    {
     "name": "stderr",
     "output_type": "stream",
     "text": [
      "C:\\ProgramData\\Anaconda3\\lib\\site-packages\\seaborn\\_decorators.py:36: FutureWarning: Pass the following variable as a keyword arg: x. From version 0.12, the only valid positional argument will be `data`, and passing other arguments without an explicit keyword will result in an error or misinterpretation.\n",
      "  warnings.warn(\n"
     ]
    },
    {
     "data": {
      "image/png": "[encoded data removed]",
      "text/plain": [
       "<Figure size 1296x360 with 1 Axes>"
      ]
     },
     "metadata": {
      "needs_background": "light"
     },
     "output_type": "display_data"
    }
   ],
   "source": [
    "countplot('Gender')"
   ]
  },
  {
   "cell_type": "code",
   "execution_count": 22,
   "id": "528f2c54",
   "metadata": {},
   "outputs": [
    {
     "data": {
      "text/plain": [
       "M    75.310507\n",
       "F    24.689493\n",
       "Name: Gender, dtype: float64"
      ]
     },
     "execution_count": 22,
     "metadata": {},
     "output_type": "execute_result"
    }
   ],
   "source": [
    "df['Gender'].value_counts(normalize=True)*100"
   ]
  },
  {
   "cell_type": "markdown",
   "id": "1cf0815f",
   "metadata": {},
   "source": [
    "* Male has bought more than female, the percentage of men buying is 75%."
   ]
  },
  {
   "cell_type": "code",
   "execution_count": 39,
   "id": "9a162b55",
   "metadata": {},
   "outputs": [
    {
     "data": {
      "text/plain": [
       "Gender\n",
       "F    8734.565765\n",
       "M    9437.526040\n",
       "Name: Purchase, dtype: float64"
      ]
     },
     "execution_count": 39,
     "metadata": {},
     "output_type": "execute_result"
    }
   ],
   "source": [
    "df.groupby(\"Gender\").mean()[\"Purchase\"]"
   ]
  },
  {
   "cell_type": "markdown",
   "id": "cc81f86a",
   "metadata": {},
   "source": [
    "* The mean purchase of male is more than female, but the difference is not very obvious."
   ]
  },
  {
   "cell_type": "markdown",
   "id": "9dcad2b5",
   "metadata": {},
   "source": [
    "### How about different of occupation?"
   ]
  },
  {
   "cell_type": "code",
   "execution_count": 27,
   "id": "73f9bbe2",
   "metadata": {},
   "outputs": [
    {
     "name": "stderr",
     "output_type": "stream",
     "text": [
      "C:\\ProgramData\\Anaconda3\\lib\\site-packages\\seaborn\\_decorators.py:36: FutureWarning: Pass the following variable as a keyword arg: x. From version 0.12, the only valid positional argument will be `data`, and passing other arguments without an explicit keyword will result in an error or misinterpretation.\n",
      "  warnings.warn(\n"
     ]
    },
    {
     "data": {
      "image/png": "[encoded data removed]",
      "text/plain": [
       "<Figure size 1296x360 with 1 Axes>"
      ]
     },
     "metadata": {
      "needs_background": "light"
     },
     "output_type": "display_data"
    }
   ],
   "source": [
    "countplot('Occupation')"
   ]
  },
  {
   "cell_type": "code",
   "execution_count": 42,
   "id": "4c021597",
   "metadata": {},
   "outputs": [
    {
     "data": {
      "image/png": "[encoded data removed]",
      "text/plain": [
       "<Figure size 1296x360 with 1 Axes>"
      ]
     },
     "metadata": {
      "needs_background": "light"
     },
     "output_type": "display_data"
    }
   ],
   "source": [
    "barplot('Occupation')"
   ]
  },
  {
   "cell_type": "markdown",
   "id": "46cc0390",
   "metadata": {},
   "source": [
    "* The mean of each occupation is different, but the difference is not very obvious.\n",
    "* The much of bought time in each occupation is different."
   ]
  },
  {
   "cell_type": "markdown",
   "id": "9a844227",
   "metadata": {},
   "source": [
    "### How about city?"
   ]
  },
  {
   "cell_type": "code",
   "execution_count": 28,
   "id": "bfbbe66f",
   "metadata": {},
   "outputs": [
    {
     "name": "stderr",
     "output_type": "stream",
     "text": [
      "C:\\ProgramData\\Anaconda3\\lib\\site-packages\\seaborn\\_decorators.py:36: FutureWarning: Pass the following variable as a keyword arg: x. From version 0.12, the only valid positional argument will be `data`, and passing other arguments without an explicit keyword will result in an error or misinterpretation.\n",
      "  warnings.warn(\n"
     ]
    },
    {
     "data": {
      "image/png": "[encoded data removed]",
      "text/plain": [
       "<Figure size 1296x360 with 1 Axes>"
      ]
     },
     "metadata": {
      "needs_background": "light"
     },
     "output_type": "display_data"
    }
   ],
   "source": [
    "countplot('City_Category')"
   ]
  },
  {
   "cell_type": "code",
   "execution_count": 43,
   "id": "f277df89",
   "metadata": {},
   "outputs": [
    {
     "data": {
      "image/png": "[encoded data removed]",
      "text/plain": [
       "<Figure size 1296x360 with 1 Axes>"
      ]
     },
     "metadata": {
      "needs_background": "light"
     },
     "output_type": "display_data"
    }
   ],
   "source": [
    "barplot(\"City_Category\")"
   ]
  },
  {
   "cell_type": "markdown",
   "id": "f63d1032",
   "metadata": {},
   "source": [
    "* The people in city C has mean of money buy more than people in city A, B. The city B has the most purchases."
   ]
  },
  {
   "cell_type": "markdown",
   "id": "c4e45d1c",
   "metadata": {},
   "source": [
    "### Stay_In_Current_City_Years "
   ]
  },
  {
   "cell_type": "markdown",
   "id": "595d5c14",
   "metadata": {},
   "source": [
    "* Do who live more time in current city has bought more?"
   ]
  },
  {
   "cell_type": "code",
   "execution_count": 44,
   "id": "38af9a9d",
   "metadata": {},
   "outputs": [
    {
     "data": {
      "image/png": "[encoded data removed]",
      "text/plain": [
       "<Figure size 1296x360 with 1 Axes>"
      ]
     },
     "metadata": {
      "needs_background": "light"
     },
     "output_type": "display_data"
    }
   ],
   "source": [
    "barplot(\"Stay_In_Current_City_Years\")"
   ]
  },
  {
   "cell_type": "markdown",
   "id": "79212d78",
   "metadata": {},
   "source": [
    "* No, because mean of purchase is not different between number years of stay in city"
   ]
  },
  {
   "cell_type": "markdown",
   "id": "9b432fc6",
   "metadata": {},
   "source": [
    "### Do people who stay in the city longer buy more?"
   ]
  },
  {
   "cell_type": "code",
   "execution_count": 29,
   "id": "665e04ce",
   "metadata": {},
   "outputs": [
    {
     "name": "stderr",
     "output_type": "stream",
     "text": [
      "C:\\ProgramData\\Anaconda3\\lib\\site-packages\\seaborn\\_decorators.py:36: FutureWarning: Pass the following variable as a keyword arg: x. From version 0.12, the only valid positional argument will be `data`, and passing other arguments without an explicit keyword will result in an error or misinterpretation.\n",
      "  warnings.warn(\n"
     ]
    },
    {
     "data": {
      "image/png": "[encoded data removed]",
      "text/plain": [
       "<Figure size 1296x360 with 1 Axes>"
      ]
     },
     "metadata": {
      "needs_background": "light"
     },
     "output_type": "display_data"
    }
   ],
   "source": [
    "countplot('Stay_In_Current_City_Years')"
   ]
  },
  {
   "cell_type": "markdown",
   "id": "85125869",
   "metadata": {},
   "source": [
    "* No. Because people who stay in the city longer have fewer purchases than others.\n",
    "* We have to care about people who are within a year in the city because they have more purchases than others."
   ]
  },
  {
   "cell_type": "markdown",
   "id": "57c56ea1",
   "metadata": {},
   "source": [
    "### Marital_Status"
   ]
  },
  {
   "cell_type": "markdown",
   "id": "8b53f61f",
   "metadata": {},
   "source": [
    "* Do married people spend more on average?"
   ]
  },
  {
   "cell_type": "code",
   "execution_count": 45,
   "id": "9d2f373c",
   "metadata": {},
   "outputs": [
    {
     "data": {
      "image/png": "[encoded data removed]",
      "text/plain": [
       "<Figure size 1296x360 with 1 Axes>"
      ]
     },
     "metadata": {
      "needs_background": "light"
     },
     "output_type": "display_data"
    }
   ],
   "source": [
    "barplot(\"Marital_Status\")"
   ]
  },
  {
   "cell_type": "markdown",
   "id": "2237b610",
   "metadata": {},
   "source": [
    "* No, there is no difference in the average amount of money spent between married and unmarried people"
   ]
  },
  {
   "cell_type": "markdown",
   "id": "539586f1",
   "metadata": {},
   "source": [
    "### Do married people have more shopping?"
   ]
  },
  {
   "cell_type": "code",
   "execution_count": 35,
   "id": "743ebbb2",
   "metadata": {},
   "outputs": [
    {
     "data": {
      "image/png": "[encoded data removed]",
      "text/plain": [
       "<Figure size 1080x360 with 2 Axes>"
      ]
     },
     "metadata": {
      "needs_background": "light"
     },
     "output_type": "display_data"
    }
   ],
   "source": [
    "fig, axs = plt.subplots(ncols=2, figsize=(15,5))\n",
    "sns.countplot(x='Marital_Status', data = df, ax=axs[0])\n",
    "sns.countplot(x='Marital_Status', hue = 'Gender', data = df, ax=axs[1])\n",
    "plt.show()"
   ]
  },
  {
   "cell_type": "markdown",
   "id": "d2cc6bfc",
   "metadata": {},
   "source": [
    "* No, unmarried people buy more, both in men and women.\n",
    "* We should take care of singles in our next marketing campaign."
   ]
  },
  {
   "cell_type": "markdown",
   "id": "dc49433d",
   "metadata": {},
   "source": [
    "### Which age buys more?"
   ]
  },
  {
   "cell_type": "code",
   "execution_count": 30,
   "id": "e9c3c713",
   "metadata": {},
   "outputs": [
    {
     "name": "stderr",
     "output_type": "stream",
     "text": [
      "C:\\ProgramData\\Anaconda3\\lib\\site-packages\\seaborn\\_decorators.py:36: FutureWarning: Pass the following variable as a keyword arg: x. From version 0.12, the only valid positional argument will be `data`, and passing other arguments without an explicit keyword will result in an error or misinterpretation.\n",
      "  warnings.warn(\n"
     ]
    },
    {
     "data": {
      "image/png": "[encoded data removed]",
      "text/plain": [
       "<Figure size 1296x360 with 1 Axes>"
      ]
     },
     "metadata": {
      "needs_background": "light"
     },
     "output_type": "display_data"
    }
   ],
   "source": [
    "countplot('Age')"
   ]
  },
  {
   "cell_type": "markdown",
   "id": "a17fc0be",
   "metadata": {},
   "source": [
    "* 26-35 years old shop the most in age groups"
   ]
  },
  {
   "cell_type": "markdown",
   "id": "a1da2d20",
   "metadata": {},
   "source": [
    "### Is the average amount of 26-35 year olds the highest?"
   ]
  },
  {
   "cell_type": "code",
   "execution_count": 46,
   "id": "5fdc259a",
   "metadata": {},
   "outputs": [
    {
     "data": {
      "image/png": "[encoded data removed]",
      "text/plain": [
       "<Figure size 1296x360 with 1 Axes>"
      ]
     },
     "metadata": {
      "needs_background": "light"
     },
     "output_type": "display_data"
    }
   ],
   "source": [
    "barplot(\"Age\")"
   ]
  },
  {
   "cell_type": "markdown",
   "id": "af5aad16",
   "metadata": {},
   "source": [
    "* There is no difference between the average purchase"
   ]
  },
  {
   "cell_type": "markdown",
   "id": "363c10c5",
   "metadata": {},
   "source": [
    "### Product_Category_1"
   ]
  },
  {
   "cell_type": "code",
   "execution_count": 53,
   "id": "5f3f7ef8",
   "metadata": {},
   "outputs": [
    {
     "name": "stderr",
     "output_type": "stream",
     "text": [
      "C:\\ProgramData\\Anaconda3\\lib\\site-packages\\seaborn\\_decorators.py:36: FutureWarning: Pass the following variable as a keyword arg: x. From version 0.12, the only valid positional argument will be `data`, and passing other arguments without an explicit keyword will result in an error or misinterpretation.\n",
      "  warnings.warn(\n"
     ]
    },
    {
     "data": {
      "image/png": "[encoded data removed]",
      "text/plain": [
       "<Figure size 1296x360 with 1 Axes>"
      ]
     },
     "metadata": {},
     "output_type": "display_data"
    }
   ],
   "source": [
    "countplot('Product_Category_1')"
   ]
  },
  {
   "cell_type": "markdown",
   "id": "91a325d0",
   "metadata": {},
   "source": [
    "* Product 5,1,8 has much of purchase"
   ]
  },
  {
   "cell_type": "code",
   "execution_count": 51,
   "id": "a84d8f48",
   "metadata": {
    "scrolled": true
   },
   "outputs": [
    {
     "name": "stderr",
     "output_type": "stream",
     "text": [
      "C:\\ProgramData\\Anaconda3\\lib\\site-packages\\seaborn\\_decorators.py:36: FutureWarning: Pass the following variables as keyword args: x, y. From version 0.12, the only valid positional argument will be `data`, and passing other arguments without an explicit keyword will result in an error or misinterpretation.\n",
      "  warnings.warn(\n"
     ]
    },
    {
     "data": {
      "image/png": "[encoded data removed]",
      "text/plain": [
       "<Figure size 1080x360 with 1 Axes>"
      ]
     },
     "metadata": {},
     "output_type": "display_data"
    }
   ],
   "source": [
    "snsbox(\"Product_Category_1\")"
   ]
  },
  {
   "cell_type": "markdown",
   "id": "28a79501",
   "metadata": {},
   "source": [
    "* Product 5,8 has much bought count but the price is not high.\n",
    "* The mean of Product_Category_1 is different. The product 10, 7, 6 has highest of purchase median"
   ]
  },
  {
   "cell_type": "markdown",
   "id": "6260b5b6",
   "metadata": {},
   "source": [
    "### Product_Category_2"
   ]
  },
  {
   "cell_type": "code",
   "execution_count": 54,
   "id": "4a73dcac",
   "metadata": {
    "scrolled": true
   },
   "outputs": [
    {
     "name": "stderr",
     "output_type": "stream",
     "text": [
      "C:\\ProgramData\\Anaconda3\\lib\\site-packages\\seaborn\\_decorators.py:36: FutureWarning: Pass the following variables as keyword args: x, y. From version 0.12, the only valid positional argument will be `data`, and passing other arguments without an explicit keyword will result in an error or misinterpretation.\n",
      "  warnings.warn(\n"
     ]
    },
    {
     "data": {
      "image/png": "[encoded data removed]",
      "text/plain": [
       "<Figure size 1080x360 with 1 Axes>"
      ]
     },
     "metadata": {},
     "output_type": "display_data"
    }
   ],
   "source": [
    "snsbox(\"Product_Category_2\")"
   ]
  },
  {
   "cell_type": "markdown",
   "id": "7f0b1538",
   "metadata": {},
   "source": [
    "* Product_Category_2 is not different in price"
   ]
  },
  {
   "cell_type": "markdown",
   "id": "2b9e649a",
   "metadata": {},
   "source": [
    "### Product_ID"
   ]
  },
  {
   "cell_type": "markdown",
   "id": "5d538b51",
   "metadata": {},
   "source": [
    "### Top 10 product_ID with the highest purchase?"
   ]
  },
  {
   "cell_type": "code",
   "execution_count": 19,
   "id": "7cef2ba6",
   "metadata": {},
   "outputs": [
    {
     "data": {
      "text/html": [
       "<div>\n",
       "<style scoped>\n",
       "    .dataframe tbody tr th:only-of-type {\n",
       "        vertical-align: middle;\n",
       "    }\n",
       "\n",
       "    .dataframe tbody tr th {\n",
       "        vertical-align: top;\n",
       "    }\n",
       "\n",
       "    .dataframe thead th {\n",
       "        text-align: right;\n",
       "    }\n",
       "</style>\n",
       "<table border=\"1\" class=\"dataframe\">\n",
       "  <thead>\n",
       "    <tr style=\"text-align: right;\">\n",
       "      <th></th>\n",
       "      <th>Product_ID</th>\n",
       "      <th>Purchase</th>\n",
       "      <th>Count</th>\n",
       "    </tr>\n",
       "  </thead>\n",
       "  <tbody>\n",
       "    <tr>\n",
       "      <th>249</th>\n",
       "      <td>P00025442</td>\n",
       "      <td>27995166</td>\n",
       "      <td>1615</td>\n",
       "    </tr>\n",
       "    <tr>\n",
       "      <th>1016</th>\n",
       "      <td>P00110742</td>\n",
       "      <td>26722309</td>\n",
       "      <td>1612</td>\n",
       "    </tr>\n",
       "    <tr>\n",
       "      <th>2443</th>\n",
       "      <td>P00255842</td>\n",
       "      <td>25168963</td>\n",
       "      <td>1383</td>\n",
       "    </tr>\n",
       "    <tr>\n",
       "      <th>582</th>\n",
       "      <td>P00059442</td>\n",
       "      <td>24338343</td>\n",
       "      <td>1406</td>\n",
       "    </tr>\n",
       "    <tr>\n",
       "      <th>1745</th>\n",
       "      <td>P00184942</td>\n",
       "      <td>24334887</td>\n",
       "      <td>1440</td>\n",
       "    </tr>\n",
       "    <tr>\n",
       "      <th>1030</th>\n",
       "      <td>P00112142</td>\n",
       "      <td>24216006</td>\n",
       "      <td>1562</td>\n",
       "    </tr>\n",
       "    <tr>\n",
       "      <th>1018</th>\n",
       "      <td>P00110942</td>\n",
       "      <td>23639564</td>\n",
       "      <td>1360</td>\n",
       "    </tr>\n",
       "    <tr>\n",
       "      <th>2263</th>\n",
       "      <td>P00237542</td>\n",
       "      <td>23425576</td>\n",
       "      <td>1394</td>\n",
       "    </tr>\n",
       "    <tr>\n",
       "      <th>565</th>\n",
       "      <td>P00057642</td>\n",
       "      <td>23102780</td>\n",
       "      <td>1470</td>\n",
       "    </tr>\n",
       "    <tr>\n",
       "      <th>104</th>\n",
       "      <td>P00010742</td>\n",
       "      <td>22164153</td>\n",
       "      <td>1350</td>\n",
       "    </tr>\n",
       "  </tbody>\n",
       "</table>\n",
       "</div>"
      ],
      "text/plain": [
       "     Product_ID  Purchase  Count\n",
       "249   P00025442  27995166   1615\n",
       "1016  P00110742  26722309   1612\n",
       "2443  P00255842  25168963   1383\n",
       "582   P00059442  24338343   1406\n",
       "1745  P00184942  24334887   1440\n",
       "1030  P00112142  24216006   1562\n",
       "1018  P00110942  23639564   1360\n",
       "2263  P00237542  23425576   1394\n",
       "565   P00057642  23102780   1470\n",
       "104   P00010742  22164153   1350"
      ]
     },
     "execution_count": 19,
     "metadata": {},
     "output_type": "execute_result"
    }
   ],
   "source": [
    "data1 = df.groupby('Product_ID').agg({'Purchase':'sum'}).reset_index()\n",
    "data2 = df['Product_ID'].value_counts()\n",
    "data2 = pd.DataFrame({'Product_ID':data2.index, 'Count':data2.values})\n",
    "data = pd.merge(data1,data2,left_on='Product_ID',right_on='Product_ID',how = 'left');\n",
    "\n",
    "data = data.sort_values(['Purchase'],ascending=False)[0:10];\n",
    "data"
   ]
  },
  {
   "cell_type": "code",
   "execution_count": 20,
   "id": "a4a5ae5d",
   "metadata": {},
   "outputs": [
    {
     "data": {
      "image/png": "[encoded data removed]",
      "text/plain": [
       "<Figure size 1296x360 with 1 Axes>"
      ]
     },
     "metadata": {
      "needs_background": "light"
     },
     "output_type": "display_data"
    }
   ],
   "source": [
    "plt.figure(figsize=(18,5));\n",
    "plt.grid();\n",
    "plt.plot(data['Product_ID'],data['Purchase'],'o-');\n",
    "plt.xlabel('product IDs');\n",
    "plt.ylabel('Total amount it was purchased');\n",
    "plt.title('Top 10 Products with highest purchase and Count displayed');\n",
    "for a,b,c in zip(data['Product_ID'], data['Purchase'], data['Count']): \n",
    "    plt.text(a, b+100000, str(c))  \n",
    "plt.show();"
   ]
  },
  {
   "cell_type": "markdown",
   "id": "6a42d2a9",
   "metadata": {},
   "source": [
    "* The first product sold 28 million with the number of 1615, the second product was 26.7 million with the number of 1612. The highest sales product also had a higher price.\n",
    "* The 3rd product sold in quantity of 1383, lower than the 4th product, but the 4th product had a lower price than the 3rd product, so even though the quantity was larger, the purchase was still lower than the product 3rd"
   ]
  },
  {
   "cell_type": "markdown",
   "id": "c2fb40a3",
   "metadata": {},
   "source": [
    "### Which products are best selling with the group of age?"
   ]
  },
  {
   "cell_type": "code",
   "execution_count": 21,
   "id": "e592a77a",
   "metadata": {},
   "outputs": [
    {
     "data": {
      "text/html": [
       "<div>\n",
       "<style scoped>\n",
       "    .dataframe tbody tr th:only-of-type {\n",
       "        vertical-align: middle;\n",
       "    }\n",
       "\n",
       "    .dataframe tbody tr th {\n",
       "        vertical-align: top;\n",
       "    }\n",
       "\n",
       "    .dataframe thead th {\n",
       "        text-align: right;\n",
       "    }\n",
       "</style>\n",
       "<table border=\"1\" class=\"dataframe\">\n",
       "  <thead>\n",
       "    <tr style=\"text-align: right;\">\n",
       "      <th></th>\n",
       "      <th>Age</th>\n",
       "      <th>Product_ID</th>\n",
       "    </tr>\n",
       "  </thead>\n",
       "  <tbody>\n",
       "    <tr>\n",
       "      <th>0</th>\n",
       "      <td>0-17</td>\n",
       "      <td>P00255842</td>\n",
       "    </tr>\n",
       "    <tr>\n",
       "      <th>1</th>\n",
       "      <td>18-25</td>\n",
       "      <td>P00265242</td>\n",
       "    </tr>\n",
       "    <tr>\n",
       "      <th>2</th>\n",
       "      <td>26-35</td>\n",
       "      <td>P00265242</td>\n",
       "    </tr>\n",
       "    <tr>\n",
       "      <th>3</th>\n",
       "      <td>36-45</td>\n",
       "      <td>P00025442</td>\n",
       "    </tr>\n",
       "    <tr>\n",
       "      <th>4</th>\n",
       "      <td>46-50</td>\n",
       "      <td>P00265242</td>\n",
       "    </tr>\n",
       "    <tr>\n",
       "      <th>5</th>\n",
       "      <td>51-55</td>\n",
       "      <td>P00265242</td>\n",
       "    </tr>\n",
       "    <tr>\n",
       "      <th>6</th>\n",
       "      <td>55+</td>\n",
       "      <td>P00265242</td>\n",
       "    </tr>\n",
       "  </tbody>\n",
       "</table>\n",
       "</div>"
      ],
      "text/plain": [
       "     Age Product_ID\n",
       "0   0-17  P00255842\n",
       "1  18-25  P00265242\n",
       "2  26-35  P00265242\n",
       "3  36-45  P00025442\n",
       "4  46-50  P00265242\n",
       "5  51-55  P00265242\n",
       "6    55+  P00265242"
      ]
     },
     "execution_count": 21,
     "metadata": {},
     "output_type": "execute_result"
    }
   ],
   "source": [
    "data1 = df.groupby('Age')['Product_ID'].apply(lambda x: x.value_counts().index[0]).reset_index()\n",
    "data1"
   ]
  },
  {
   "cell_type": "markdown",
   "id": "e2fb309d",
   "metadata": {},
   "source": [
    "* P00265242 best selling with most age groups. \n",
    "* Age group 18-35, 46-55+ buy this product the most. \n",
    "* The group 0-17 years old bought the most P00255842, 36-45 bought the most P00025442."
   ]
  },
  {
   "cell_type": "markdown",
   "id": "13bc6b14",
   "metadata": {},
   "source": [
    "### Correlation"
   ]
  },
  {
   "cell_type": "code",
   "execution_count": 46,
   "id": "b4a21127",
   "metadata": {},
   "outputs": [
    {
     "data": {
      "image/png": "[encoded data removed]",
      "text/plain": [
       "<Figure size 648x648 with 2 Axes>"
      ]
     },
     "metadata": {},
     "output_type": "display_data"
    }
   ],
   "source": [
    "#df = pd.read_csv('data/train/train.csv')\n",
    "plt.figure(figsize=(9,9))\n",
    "sns.heatmap(df.corr(),annot=True)\n",
    "plt.show()"
   ]
  },
  {
   "cell_type": "markdown",
   "id": "ffdcd01f",
   "metadata": {},
   "source": [
    "Looking at the graph, we see that Purchase is highly correlated with the feature 'Product_Category_1' and 'Product_Category_2'"
   ]
  },
  {
   "cell_type": "markdown",
   "id": "8f2273a9",
   "metadata": {},
   "source": [
    "# Section 3: Data preparation\n",
    "###  Data preprocessing"
   ]
  },
  {
   "cell_type": "code",
   "execution_count": 47,
   "id": "264efc36",
   "metadata": {},
   "outputs": [],
   "source": [
    "df['Age'] = df['Age'].apply(lambda x:str(x).replace('55+', '55'))\n",
    "df['Stay_In_Current_City_Years'] = df['Stay_In_Current_City_Years'].apply(lambda x : str(x).replace('4+', '4'))\n",
    "df['Stay_In_Current_City_Years'] = df['Stay_In_Current_City_Years'].astype('int')"
   ]
  },
  {
   "cell_type": "code",
   "execution_count": 48,
   "id": "9c5b2764",
   "metadata": {},
   "outputs": [],
   "source": [
    "# Delete unuse column\n",
    "df.drop(['User_ID', 'Product_ID'], axis = 1, inplace = True)"
   ]
  },
  {
   "cell_type": "code",
   "execution_count": 49,
   "id": "4de236e4",
   "metadata": {},
   "outputs": [],
   "source": [
    "# Encode object features\n",
    "\n",
    "from sklearn.preprocessing import LabelEncoder\n",
    "\n",
    "df['Gender'] = LabelEncoder().fit_transform(df['Gender'])\n",
    "df['Age'] = LabelEncoder().fit_transform(df['Age'])\n",
    "df['City_Category'] = LabelEncoder().fit_transform(df['City_Category'])"
   ]
  },
  {
   "cell_type": "markdown",
   "id": "01452295",
   "metadata": {},
   "source": [
    "# Section 4: Modeling"
   ]
  },
  {
   "cell_type": "code",
   "execution_count": 4,
   "id": "6edf1bfc",
   "metadata": {},
   "outputs": [
    {
     "name": "stderr",
     "output_type": "stream",
     "text": [
      "\n",
      "KeyboardInterrupt\n",
      "\n"
     ]
    }
   ],
   "source": [
    "from sklearn.model_selection import train_test_split\n",
    "# Devide data to X, Y\n",
    "X = df.drop(\"Purchase\", axis = 1)\n",
    "Y = df[\"Purchase\"]\n",
    "x_train,x_test,y_train,y_test = train_test_split(X, Y,test_size=0.3)"
   ]
  },
  {
   "cell_type": "code",
   "execution_count": 51,
   "id": "21a687bc",
   "metadata": {},
   "outputs": [
    {
     "name": "stdout",
     "output_type": "stream",
     "text": [
      "LinearRegression()\n"
     ]
    }
   ],
   "source": [
    "from sklearn.linear_model import LinearRegression\n",
    "\n",
    "lm = LinearRegression()\n",
    "lm.fit(x_train, y_train)\n",
    "print(lm.fit(x_train, y_train))"
   ]
  },
  {
   "cell_type": "code",
   "execution_count": 52,
   "id": "3b0f9534",
   "metadata": {},
   "outputs": [
    {
     "name": "stdout",
     "output_type": "stream",
     "text": [
      "Intercept parameter: 10965.26371489582\n",
      "                            Coefficient\n",
      "Gender                       504.349401\n",
      "Age                          121.627916\n",
      "Occupation                     7.515733\n",
      "City_Category                343.884944\n",
      "Stay_In_Current_City_Years     7.713232\n",
      "Marital_Status               -48.304747\n",
      "Product_Category_1          -416.428459\n",
      "Product_Category_2           -57.368666\n"
     ]
    }
   ],
   "source": [
    "print('Intercept parameter:', lm.intercept_)\n",
    "coeff_df = pd.DataFrame(lm.coef_, X.columns, columns=['Coefficient'])\n",
    "print(coeff_df)"
   ]
  },
  {
   "cell_type": "markdown",
   "id": "12bd422d",
   "metadata": {},
   "source": [
    "* Look at the Intercept parameter, we also see that Purchase highly correlated with Gender, Product_Category_1, City_Category, Age                     "
   ]
  },
  {
   "cell_type": "code",
   "execution_count": 53,
   "id": "87aadfc0",
   "metadata": {},
   "outputs": [],
   "source": [
    "predictions = lm.predict(x_test)"
   ]
  },
  {
   "cell_type": "markdown",
   "id": "ad6ca75c",
   "metadata": {},
   "source": [
    "## Formula"
   ]
  },
  {
   "cell_type": "markdown",
   "id": "24ffe6f5",
   "metadata": {},
   "source": [
    "#### MAE:\n",
    "\n",
    "\\begin{align}\n",
    "       \\text{MAE = }\\frac{1}n \\sum_{i=1}^{n}|Predicted_i-Actual_i|\n",
    "    \\end{align}"
   ]
  },
  {
   "cell_type": "markdown",
   "id": "e79de3ca",
   "metadata": {},
   "source": [
    "#### RMSE:\n",
    " \\begin{align}\n",
    "       \\text{RMSE = }\\sqrt{\\frac{1}n \\sum_{i=1}^{n}(Predicted_i-Actual_i)^2}\n",
    "    \\end{align}"
   ]
  },
  {
   "cell_type": "code",
   "execution_count": 58,
   "id": "8d9e0967",
   "metadata": {},
   "outputs": [
    {
     "name": "stdout",
     "output_type": "stream",
     "text": [
      "MAE: 3590.491945782574\n",
      "RMSE 4690.037878114225\n"
     ]
    }
   ],
   "source": [
    "from sklearn import metrics\n",
    "\n",
    "print('MAE:', metrics.mean_absolute_error(y_test, predictions))\n",
    "print('RMSE', (metrics.mean_squared_error(y_test, predictions, squared=False)))"
   ]
  },
  {
   "cell_type": "markdown",
   "id": "514ce8df",
   "metadata": {},
   "source": [
    "# Section 5: Summary the Results"
   ]
  },
  {
   "cell_type": "markdown",
   "id": "f6b720e2",
   "metadata": {},
   "source": [
    "### Question 1: Who should be the target customer in the next campain?\n",
    "* In the next marketing campaign, we are more interested in men, because the percentage of men buying is 75%.\n",
    "* City B has the most purchases. Focus on this customer. Or we should have coupon for city A, C to attract customers to buy more.\n",
    "* We have to care about people who are within a year in the city because they have more purchases than others.\n",
    "* We should take care of singles in our next marketing campaign.\n",
    "* The age group 26-35 buys the most of the age groups. Attention should be paid to this age group.\n",
    "\n",
    "### Question 2: Which product should be cared in the next campain?\n",
    "* Purchase is heavily influenced by Product Category.\n",
    "* The most purchased products are 5, 1, 8 in Product_Category_1, should be displayed at the front of the store to increase sales.\n",
    "* There is a clear difference between the product types in Product_category_1 in price varience, so depending on the company's strategy towards which price to choose the right product.\n",
    "\n",
    "### Question 3: Which products are best selling ?\n",
    "* The first product sold 28 million with the number of 1615, the second product was 26.7 million with the number of 1612. The highest sales product also had a higher price.\n",
    "* The 3rd product sold in quantity of 1383, lower than the 4th product, but the 4th product had a lower price than the 3rd product, so even though the quantity was larger, the purchase was still lower than the product 3rd\n",
    "P00265242 best selling with most age groups.\n",
    "* Age group 18-35, 46-55+ buy this product the most.\n",
    "* The group 0-17 years old bought the most P00255842, 36-45 bought the most P00025442."
   ]
  },
  {
   "cell_type": "code",
   "execution_count": null,
   "id": "6832153d",
   "metadata": {},
   "outputs": [],
   "source": []
  }
 ],
 "metadata": {
  "kernelspec": {
   "display_name": "Python 3 (ipykernel)",
   "language": "python",
   "name": "python3"
  },
  "language_info": {
   "codemirror_mode": {
    "name": "ipython",
    "version": 3
   },
   "file_extension": ".py",
   "mimetype": "text/x-python",
   "name": "python",
   "nbconvert_exporter": "python",
   "pygments_lexer": "ipython3",
   "version": "3.9.12"
  }
 },
 "nbformat": 4,
 "nbformat_minor": 5
}
